{
 "cells": [
  {
   "cell_type": "code",
   "execution_count": null,
   "metadata": {},
   "outputs": [],
   "source": [
    "# import geocoder\n",
    "import geocoder \n",
    "from geopy.geocoders import Nominatim # convert an address into latitude and longitude values\n",
    "from pandas.io.json import json_normalize  # tranform JSON file into a pandas dataframe\n",
    "\n",
    "import folium # map rendering library\n",
    "\n",
    "# import k-means from clustering stage\n",
    "from sklearn.cluster import KMeans\n",
    "\n",
    "# Matplotlib and associated plotting modules\n",
    "import matplotlib.cm as cm\n",
    "import matplotlib.colors as colors\n",
    "\n",
    "# # initialize your variable to None\n",
    "# lat_lng_coords = None\n",
    "\n",
    "# # loop until you get the coordinates\n",
    "# while(lat_lng_coords is None):\n",
    "#     g = geocoder.google(\"{}, Toronto, Ontario\".format(postal_code))\n",
    "#     lat_lng_coords = g.latlng\n",
    "    \n",
    "# latitude = lat_lng_coords[0]\n",
    "# longitude = lat_lng_coords[1]\n",
    "\n",
    "import pandas as pd"
   ]
  },
  {
   "cell_type": "code",
   "execution_count": null,
   "metadata": {},
   "outputs": [],
   "source": [
    "#file paths for two data source files \n",
    "file = \"Geospatial_Coordinates.csv\"\n",
    "file2 = \"https://en.wikipedia.org/wiki/List_of_postal_codes_of_Canada:_M\"\n",
    "\n",
    "#read csv for the Geospatial file\n",
    "read_file = pd.read_csv(file)\n",
    "read_file.head()\n",
    "\n"
   ]
  },
  {
   "cell_type": "code",
   "execution_count": null,
   "metadata": {},
   "outputs": [],
   "source": [
    "#read table from wikipedia\n",
    "read_file2 = pd.read_html(file2)\n",
    "read_file2 = read_file2[0]\n",
    "read_file2.head()"
   ]
  },
  {
   "cell_type": "code",
   "execution_count": null,
   "metadata": {},
   "outputs": [],
   "source": []
  },
  {
   "cell_type": "code",
   "execution_count": null,
   "metadata": {},
   "outputs": [],
   "source": [
    "#merge the two dataframes together\n",
    "coordinates_df = pd.merge(read_file, read_file2, how='left', left_on = 'Postal Code', right_on = 'Postal code')\n",
    "coordinates_df\n"
   ]
  },
  {
   "cell_type": "code",
   "execution_count": null,
   "metadata": {},
   "outputs": [],
   "source": [
    "# drop the \"Postal code\" column\n",
    "coordinates_df.drop(\"Postal code\", axis=1, inplace=True)\n",
    "coordinates_df.head(11)"
   ]
  },
  {
   "cell_type": "code",
   "execution_count": null,
   "metadata": {},
   "outputs": [],
   "source": [
    "#print coordinate names\n",
    "coordinates_df.columns"
   ]
  },
  {
   "cell_type": "code",
   "execution_count": null,
   "metadata": {},
   "outputs": [],
   "source": [
    "#reorder the columns\n",
    "coordinates_df = coordinates_df[['Postal Code','Borough','Latitude', 'Longitude', 'Neighborhood']]\n",
    "coordinates_df.head(12)"
   ]
  },
  {
   "cell_type": "code",
   "execution_count": null,
   "metadata": {},
   "outputs": [],
   "source": [
    "coordinates_df = coordinates_df.loc[coordinates_df[\"Borough\"].str.contains(\"Toronto\")]\n"
   ]
  },
  {
   "cell_type": "code",
   "execution_count": null,
   "metadata": {},
   "outputs": [],
   "source": [
    "location = \"Toronto, ON\"\n",
    "\n",
    "geolocator = Nominatim(user_agent=\"toronto_explorer\")\n",
    "location = geolocator.geocode(location)\n",
    "lat = location.latitude\n",
    "long = location.longitude\n",
    "print('The geograpical coordinates of Toronto are {}, {}.'.format(lat, long))"
   ]
  },
  {
   "cell_type": "code",
   "execution_count": null,
   "metadata": {},
   "outputs": [],
   "source": [
    "# create map of Toronto\n",
    "toronto_map = folium.Map(location=[lat, long], zoom_start=10)\n",
    "toronto_map"
   ]
  },
  {
   "cell_type": "code",
   "execution_count": null,
   "metadata": {
    "scrolled": true
   },
   "outputs": [],
   "source": [
    "# add points to the map\n",
    "for latt, lngg, borough, neighborhood in zip(\n",
    "    coordinates_df['Latitude'], \n",
    "    coordinates_df['Longitude'], \n",
    "    coordinates_df['Borough'], \n",
    "    coordinates_df['Neighborhood']):\n",
    "        label = 'Neighborhood [{}]; Borough [{}]'.format(neighborhood, borough)\n",
    "        label = folium.Popup(label, parse_html=True)\n",
    "        folium.CircleMarker(\n",
    "            [latt, lngg],\n",
    "            radius=10,\n",
    "            popup=label,\n",
    "            color='green',\n",
    "            fill=True,\n",
    "            fill_color='#3cc',\n",
    "            fill_opacity=0.2,\n",
    "            parse_html=False).add_to(toronto_map)  \n",
    "\n",
    "toronto_map"
   ]
  },
  {
   "cell_type": "code",
   "execution_count": null,
   "metadata": {},
   "outputs": [],
   "source": []
  },
  {
   "cell_type": "code",
   "execution_count": null,
   "metadata": {},
   "outputs": [],
   "source": []
  }
 ],
 "metadata": {
  "kernelspec": {
   "display_name": "Python 3",
   "language": "python",
   "name": "python3"
  },
  "language_info": {
   "codemirror_mode": {
    "name": "ipython",
    "version": 3
   },
   "file_extension": ".py",
   "mimetype": "text/x-python",
   "name": "python",
   "nbconvert_exporter": "python",
   "pygments_lexer": "ipython3",
   "version": "3.7.6"
  }
 },
 "nbformat": 4,
 "nbformat_minor": 2
}
