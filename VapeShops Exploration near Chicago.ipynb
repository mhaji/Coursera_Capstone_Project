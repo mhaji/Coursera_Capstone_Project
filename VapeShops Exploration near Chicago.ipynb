{
 "cells": [
  {
   "cell_type": "code",
   "execution_count": null,
   "metadata": {},
   "outputs": [],
   "source": [
    "import json, requests\n",
    "\n",
    "import pandas as pd\n",
    "import numpy as np\n",
    "import matplotlib.pyplot as plt\n",
    "import requests\n",
    "import time\n",
    "from pprint import pprint\n",
    "from citipy import citipy\n",
    "import random\n",
    "import seaborn as sns\n",
    "from sklearn import preprocessing\n",
    "\n",
    "\n",
    "\n",
    "# import geocoder\n",
    "import geocoder \n",
    "from geopy.geocoders import Nominatim # convert an address into latitude and longitude values\n",
    "from pandas.io.json import json_normalize  # tranform JSON file into a pandas dataframe"
   ]
  },
  {
   "cell_type": "code",
   "execution_count": null,
   "metadata": {},
   "outputs": [],
   "source": [
    "#get request for vape store cateagory near Chicago\n",
    "url = 'https://api.foursquare.com/v2/venues/search'\n",
    "\n",
    "params = dict(\n",
    "client_id='DABIBENCV5KY4JBIHU03AARZTXHPYMWNSZKUGHJ3BE1MGQG2',\n",
    "client_secret='OGGTMGV4H02BSU02H31KAOXTUDKQGHFZGHJBHNRUZWCMZ4CE',\n",
    "v='20200901',\n",
    "near = \"Chicago, IL\",\n",
    "categoryId = \"56aa371be4b08b9a8d57355c\",\n",
    "limit=100\n",
    ")\n",
    "resp = requests.get(url=url, params=params)\n",
    "data = json.loads(resp.text)"
   ]
  },
  {
   "cell_type": "code",
   "execution_count": null,
   "metadata": {},
   "outputs": [],
   "source": [
    "data"
   ]
  },
  {
   "cell_type": "code",
   "execution_count": null,
   "metadata": {},
   "outputs": [],
   "source": [
    "#append data to empty list\n",
    "\n",
    "data_list = []\n",
    "for d in data[\"response\"][\"venues\"]:\n",
    "    try:\n",
    "        data_list.append({ \"Name\" : d['name'],\n",
    "        \"categories\":d[\"categories\"][0][\"name\"],\n",
    "        \"Address\": d[\"location\"][\"address\"],\n",
    "        \"format_address\":d[\"location\"]['formattedAddress'][0],\n",
    "        \"city\": d['location'][\"city\"],\n",
    "        \"state\": d['location'][\"state\"],\n",
    "        \"postal\": d['location']['postalCode'],\n",
    "        \"lat\": d['location'][\"lat\"],\n",
    "        \"lng\": d['location'][\"lng\"],\n",
    "        \"country\": d['location'][\"cc\"]})\n",
    "    except:\n",
    "        pass\n",
    "    \n",
    "data_list"
   ]
  },
  {
   "cell_type": "code",
   "execution_count": null,
   "metadata": {},
   "outputs": [],
   "source": [
    "pd.DataFrame(data_list)"
   ]
  },
  {
   "cell_type": "code",
   "execution_count": null,
   "metadata": {},
   "outputs": [],
   "source": [
    "#get request for Smoke shop cateagory near Chicago\n",
    "params = dict(\n",
    "client_id='DABIBENCV5KY4JBIHU03AARZTXHPYMWNSZKUGHJ3BE1MGQG2',\n",
    "client_secret='OGGTMGV4H02BSU02H31KAOXTUDKQGHFZGHJBHNRUZWCMZ4CE',\n",
    "v='20200901',\n",
    "near = \"Chicago, IL\",\n",
    "categoryId = \"4bf58dd8d48988d123951735\",\n",
    "limit=100\n",
    ")\n",
    "resp = requests.get(url=url, params=params)\n",
    "data = json.loads(resp.text)"
   ]
  },
  {
   "cell_type": "code",
   "execution_count": null,
   "metadata": {},
   "outputs": [],
   "source": [
    "#append data to list\n",
    "for d in data[\"response\"][\"venues\"]:\n",
    "    try:\n",
    "        data_list.append({ \"Name\" : d['name'],\n",
    "        \"categories\":d[\"categories\"][0][\"name\"],\n",
    "        \"Address\": d[\"location\"][\"address\"],\n",
    "        \"format_address\":d[\"location\"]['formattedAddress'][0],\n",
    "        \"city\": d['location'][\"city\"],\n",
    "        \"state\": d['location'][\"state\"],\n",
    "        \"postal\": d['location']['postalCode'],\n",
    "        \"lat\": d['location'][\"lat\"],\n",
    "        \"lng\": d['location'][\"lng\"],\n",
    "        \"country\": d['location'][\"cc\"]})\n",
    "    except:\n",
    "        pass"
   ]
  },
  {
   "cell_type": "code",
   "execution_count": null,
   "metadata": {},
   "outputs": [],
   "source": [
    "df1 = pd.DataFrame(data_list)"
   ]
  },
  {
   "cell_type": "code",
   "execution_count": null,
   "metadata": {},
   "outputs": [],
   "source": [
    "df1"
   ]
  },
  {
   "cell_type": "code",
   "execution_count": null,
   "metadata": {},
   "outputs": [],
   "source": [
    "#identify duplicates\n",
    "df1[df1['Address'].duplicated(keep=False) == True]\n",
    "\n",
    "#drop duplicates\n",
    "df1.drop_duplicates(inplace=True)\n",
    "\n",
    "#reset_index\n",
    "df1.reset_index(drop=True,inplace=True)"
   ]
  },
  {
   "cell_type": "code",
   "execution_count": null,
   "metadata": {},
   "outputs": [],
   "source": [
    "df1"
   ]
  },
  {
   "cell_type": "code",
   "execution_count": null,
   "metadata": {},
   "outputs": [],
   "source": [
    "#use yelp API to get pull data from vapeshops cateagory\n",
    "\n",
    "yelp_url = 'https://api.yelp.com/v3/businesses/search'\n",
    "Api_key='Yctnaw1C_GhYKgIsgTd4GT2fVSLHAMOyJxnhRru7wmPzZLAarj9E3ML6PxN6Do0Tei3Giw2dlyDuAt8ETJP9ECqVSg8pEC32C4wjgSi9HxmcqTI9dTTKKrDldPdJX3Yx'\n",
    "headers = {\"Authorization\": \"bearer %s\" % Api_key}\n",
    "#near Chicago\n",
    "params = dict(\n",
    "categories = \"vapeshops\",\n",
    "limit = \"50\",\n",
    "location = \"Chicago, IL\")\n",
    "yelp_resp = requests.get(url=yelp_url, params=params,headers = headers)\n",
    "yelp_data = json.loads(yelp_resp.text)\n"
   ]
  },
  {
   "cell_type": "code",
   "execution_count": null,
   "metadata": {},
   "outputs": [],
   "source": [
    "yelp_list=[]\n",
    "for d in yelp_data[\"businesses\"]:\n",
    "    try:\n",
    "        yelp_list.append({ \"Name\" : d['name'],\n",
    "        \"categories\":d[\"categories\"][0][\"title\"],\n",
    "        \"Address\": d[\"location\"][\"address1\"],\n",
    "        \"format_address\":d[\"location\"][\"display_address\"][0],\n",
    "        \"reviews\": d['review_count'],\n",
    "        \"rating\":d[\"rating\"],\n",
    "        \"city\": d['location'][\"city\"],\n",
    "        \"country\": d['location'][\"country\"],\n",
    "        \"lat\": d[\"coordinates\"][\"latitude\"],\n",
    "        \"lng\": d[\"coordinates\"][\"longitude\"],\n",
    "        \"price\":d[\"price\"],\n",
    "        \"postal\": d['location']['zip_code'],\n",
    "        \"state\": d['location'][\"state\"]})\n",
    "    except:\n",
    "        pass"
   ]
  },
  {
   "cell_type": "code",
   "execution_count": null,
   "metadata": {},
   "outputs": [],
   "source": [
    "pd.DataFrame(yelp_list)"
   ]
  },
  {
   "cell_type": "code",
   "execution_count": null,
   "metadata": {},
   "outputs": [],
   "source": [
    "#near Skokie\n",
    "params = dict(\n",
    "categories = \"vapeshops\",\n",
    "limit = \"50\",\n",
    "location = \"Skokie, IL\")\n",
    "yelp_resp = requests.get(url=yelp_url, params=params,headers = headers)\n",
    "yelp_data = json.loads(yelp_resp.text)"
   ]
  },
  {
   "cell_type": "code",
   "execution_count": null,
   "metadata": {},
   "outputs": [],
   "source": [
    "for d in yelp_data[\"businesses\"]:\n",
    "    try:\n",
    "        yelp_list.append({ \"Name\" : d['name'],\n",
    "        \"categories\":d[\"categories\"][0][\"title\"],\n",
    "        \"Address\": d[\"location\"][\"address1\"],\n",
    "        \"format_address\":d[\"location\"][\"display_address\"][0],\n",
    "        \"reviews\": d['review_count'],\n",
    "        \"rating\":d[\"rating\"],\n",
    "        \"city\": d['location'][\"city\"],\n",
    "        \"country\": d['location'][\"country\"],\n",
    "        \"lat\": d[\"coordinates\"][\"latitude\"],\n",
    "        \"lng\": d[\"coordinates\"][\"longitude\"],\n",
    "        \"price\":d[\"price\"],\n",
    "        \"postal\": d['location']['zip_code'],\n",
    "        \"state\": d['location'][\"state\"]})\n",
    "    except:\n",
    "        pass"
   ]
  },
  {
   "cell_type": "code",
   "execution_count": null,
   "metadata": {},
   "outputs": [],
   "source": [
    "pd.DataFrame(yelp_list)"
   ]
  },
  {
   "cell_type": "code",
   "execution_count": null,
   "metadata": {},
   "outputs": [],
   "source": [
    "#near Lincolnwood\n",
    "params = dict(\n",
    "categories = \"vapeshops\",\n",
    "limit = \"50\",\n",
    "location = \"Lincolnwood, IL\")\n",
    "yelp_resp = requests.get(url=yelp_url, params=params,headers = headers)\n",
    "yelp_data = json.loads(yelp_resp.text)"
   ]
  },
  {
   "cell_type": "code",
   "execution_count": null,
   "metadata": {},
   "outputs": [],
   "source": [
    "for d in yelp_data[\"businesses\"]:\n",
    "    try:\n",
    "        yelp_list.append({ \"Name\" : d['name'],\n",
    "        \"categories\":d[\"categories\"][0][\"title\"],\n",
    "        \"Address\": d[\"location\"][\"address1\"],\n",
    "        \"format_address\":d[\"location\"][\"display_address\"][0],\n",
    "        \"reviews\": d['review_count'],\n",
    "        \"rating\":d[\"rating\"],\n",
    "        \"city\": d['location'][\"city\"],\n",
    "        \"country\": d['location'][\"country\"],\n",
    "        \"lat\": d[\"coordinates\"][\"latitude\"],\n",
    "        \"lng\": d[\"coordinates\"][\"longitude\"],\n",
    "        \"price\":d[\"price\"],\n",
    "        \"postal\": d['location']['zip_code'],\n",
    "        \"state\": d['location'][\"state\"]})\n",
    "    except:\n",
    "        pass"
   ]
  },
  {
   "cell_type": "code",
   "execution_count": null,
   "metadata": {},
   "outputs": [],
   "source": [
    "pd.DataFrame(yelp_list)"
   ]
  },
  {
   "cell_type": "code",
   "execution_count": null,
   "metadata": {},
   "outputs": [],
   "source": [
    "#near Evanston\n",
    "params = dict(\n",
    "categories = \"vapeshops\",\n",
    "limit = \"50\",\n",
    "location = \"Evanston, IL\")\n",
    "yelp_resp = requests.get(url=yelp_url, params=params,headers = headers)\n",
    "yelp_data = json.loads(yelp_resp.text)"
   ]
  },
  {
   "cell_type": "code",
   "execution_count": null,
   "metadata": {},
   "outputs": [],
   "source": [
    "for d in yelp_data[\"businesses\"]:\n",
    "    try:\n",
    "        yelp_list.append({ \"Name\" : d['name'],\n",
    "        \"categories\":d[\"categories\"][0][\"title\"],\n",
    "        \"Address\": d[\"location\"][\"address1\"],\n",
    "        \"format_address\":d[\"location\"][\"display_address\"][0],\n",
    "        \"reviews\": d['review_count'],\n",
    "        \"rating\":d[\"rating\"],\n",
    "        \"city\": d['location'][\"city\"],\n",
    "        \"country\": d['location'][\"country\"],\n",
    "        \"lat\": d[\"coordinates\"][\"latitude\"],\n",
    "        \"lng\": d[\"coordinates\"][\"longitude\"],\n",
    "        \"price\":d[\"price\"],\n",
    "        \"postal\": d['location']['zip_code'],\n",
    "        \"state\": d['location'][\"state\"]})\n",
    "    except:\n",
    "        pass"
   ]
  },
  {
   "cell_type": "code",
   "execution_count": null,
   "metadata": {},
   "outputs": [],
   "source": [
    "pd.DataFrame(yelp_list)"
   ]
  },
  {
   "cell_type": "code",
   "execution_count": null,
   "metadata": {},
   "outputs": [],
   "source": [
    "#Near Niles\n",
    "params = dict(\n",
    "categories = \"vapeshops\",\n",
    "limit = \"50\",\n",
    "location = \"Niles, IL\")\n",
    "yelp_resp = requests.get(url=yelp_url, params=params,headers = headers)\n",
    "yelp_data = json.loads(yelp_resp.text)"
   ]
  },
  {
   "cell_type": "code",
   "execution_count": null,
   "metadata": {},
   "outputs": [],
   "source": [
    "for d in yelp_data[\"businesses\"]:\n",
    "    try:\n",
    "        yelp_list.append({ \"Name\" : d['name'],\n",
    "        \"categories\":d[\"categories\"][0][\"title\"],\n",
    "        \"Address\": d[\"location\"][\"address1\"],\n",
    "        \"format_address\":d[\"location\"][\"display_address\"][0],\n",
    "        \"reviews\": d['review_count'],\n",
    "        \"rating\":d[\"rating\"],\n",
    "        \"city\": d['location'][\"city\"],\n",
    "        \"country\": d['location'][\"country\"],\n",
    "        \"lat\": d[\"coordinates\"][\"latitude\"],\n",
    "        \"lng\": d[\"coordinates\"][\"longitude\"],\n",
    "        \"price\":d[\"price\"],\n",
    "        \"postal\": d['location']['zip_code'],\n",
    "        \"state\": d['location'][\"state\"]})\n",
    "    except:\n",
    "        pass"
   ]
  },
  {
   "cell_type": "code",
   "execution_count": null,
   "metadata": {},
   "outputs": [],
   "source": [
    "pd.DataFrame(yelp_list)"
   ]
  },
  {
   "cell_type": "code",
   "execution_count": null,
   "metadata": {},
   "outputs": [],
   "source": [
    "#Near Morton Grove\n",
    "params = dict(\n",
    "categories = \"vapeshops\",\n",
    "limit = \"50\",\n",
    "location = \"Morton Grove, IL\")\n",
    "yelp_resp = requests.get(url=yelp_url, params=params,headers = headers)\n",
    "yelp_data = json.loads(yelp_resp.text)"
   ]
  },
  {
   "cell_type": "code",
   "execution_count": null,
   "metadata": {},
   "outputs": [],
   "source": [
    "for d in yelp_data[\"businesses\"]:\n",
    "    try:\n",
    "        yelp_list.append({ \"Name\" : d['name'],\n",
    "        \"categories\":d[\"categories\"][0][\"title\"],\n",
    "        \"Address\": d[\"location\"][\"address1\"],\n",
    "        \"format_address\":d[\"location\"][\"display_address\"][0],\n",
    "        \"reviews\": d['review_count'],\n",
    "        \"rating\":d[\"rating\"],\n",
    "        \"city\": d['location'][\"city\"],\n",
    "        \"country\": d['location'][\"country\"],\n",
    "        \"lat\": d[\"coordinates\"][\"latitude\"],\n",
    "        \"lng\": d[\"coordinates\"][\"longitude\"],\n",
    "        \"price\":d[\"price\"],\n",
    "        \"postal\": d['location']['zip_code'],\n",
    "        \"state\": d['location'][\"state\"]})\n",
    "    except:\n",
    "        pass"
   ]
  },
  {
   "cell_type": "code",
   "execution_count": null,
   "metadata": {},
   "outputs": [],
   "source": [
    "yelp_df = pd.DataFrame(yelp_list)\n",
    "yelp_df"
   ]
  },
  {
   "cell_type": "code",
   "execution_count": null,
   "metadata": {},
   "outputs": [],
   "source": []
  },
  {
   "cell_type": "code",
   "execution_count": null,
   "metadata": {},
   "outputs": [],
   "source": [
    "#find duplicates\n",
    "yelp_df[yelp_df.duplicated()==True]"
   ]
  },
  {
   "cell_type": "code",
   "execution_count": null,
   "metadata": {},
   "outputs": [],
   "source": [
    "#drop duplicates\n",
    "yelp_df.drop_duplicates(inplace=True)"
   ]
  },
  {
   "cell_type": "code",
   "execution_count": null,
   "metadata": {},
   "outputs": [],
   "source": [
    "#reset index\n",
    "yelp_df.reset_index(drop=True, inplace=True)"
   ]
  },
  {
   "cell_type": "code",
   "execution_count": null,
   "metadata": {},
   "outputs": [],
   "source": [
    "yelp_df"
   ]
  },
  {
   "cell_type": "code",
   "execution_count": null,
   "metadata": {
    "scrolled": true
   },
   "outputs": [],
   "source": [
    "yelp_df.merge(df1,how=\"outer\")"
   ]
  },
  {
   "cell_type": "code",
   "execution_count": null,
   "metadata": {},
   "outputs": [],
   "source": []
  },
  {
   "cell_type": "code",
   "execution_count": null,
   "metadata": {},
   "outputs": [],
   "source": []
  },
  {
   "cell_type": "code",
   "execution_count": null,
   "metadata": {},
   "outputs": [],
   "source": []
  },
  {
   "cell_type": "code",
   "execution_count": null,
   "metadata": {},
   "outputs": [],
   "source": [
    "yelp_df.to_csv(\"yelp_data.csv\")"
   ]
  },
  {
   "cell_type": "code",
   "execution_count": null,
   "metadata": {},
   "outputs": [],
   "source": []
  },
  {
   "cell_type": "code",
   "execution_count": null,
   "metadata": {},
   "outputs": [],
   "source": []
  },
  {
   "cell_type": "code",
   "execution_count": null,
   "metadata": {},
   "outputs": [],
   "source": [
    "yelp_data"
   ]
  },
  {
   "cell_type": "code",
   "execution_count": null,
   "metadata": {},
   "outputs": [],
   "source": []
  },
  {
   "cell_type": "code",
   "execution_count": null,
   "metadata": {},
   "outputs": [],
   "source": []
  },
  {
   "cell_type": "code",
   "execution_count": null,
   "metadata": {},
   "outputs": [],
   "source": []
  },
  {
   "cell_type": "code",
   "execution_count": null,
   "metadata": {},
   "outputs": [],
   "source": []
  },
  {
   "cell_type": "code",
   "execution_count": null,
   "metadata": {},
   "outputs": [],
   "source": []
  },
  {
   "cell_type": "code",
   "execution_count": null,
   "metadata": {},
   "outputs": [],
   "source": [
    "yelp_list=[]\n",
    "for d in yelp_data[\"businesses\"]:\n",
    "    try:\n",
    "        yelp_list.append({ \"Name\" : d['name'],\n",
    "        \"categories\":d[\"categories\"][0][\"title\"],\n",
    "        \"Address\": d[\"location\"][\"address1\"],\n",
    "        \"format_address\":d[\"location\"][\"display_address\"][0],\n",
    "        \"reviews\": d['review_count'],\n",
    "        \"rating\":d[\"rating\"],\n",
    "        \"city\": d['location'][\"city\"],\n",
    "        \"country\": d['location'][\"country\"],\n",
    "        \"lat\": d[\"coordinates\"][\"latitude\"],\n",
    "        \"lng\": d[\"coordinates\"][\"longitude\"],\n",
    "        \"price\":d[\"price\"],\n",
    "        \"postal\": d['location']['zip_code'],\n",
    "        \"state\": d['location'][\"state\"]})\n",
    "    except:\n",
    "        pass\n",
    "   "
   ]
  },
  {
   "cell_type": "code",
   "execution_count": null,
   "metadata": {},
   "outputs": [],
   "source": [
    "pd.DataFrame(yelp_list)"
   ]
  },
  {
   "cell_type": "code",
   "execution_count": null,
   "metadata": {},
   "outputs": [],
   "source": [
    "data_list"
   ]
  },
  {
   "cell_type": "code",
   "execution_count": null,
   "metadata": {},
   "outputs": [],
   "source": []
  },
  {
   "cell_type": "code",
   "execution_count": null,
   "metadata": {},
   "outputs": [],
   "source": []
  },
  {
   "cell_type": "code",
   "execution_count": null,
   "metadata": {},
   "outputs": [],
   "source": []
  },
  {
   "cell_type": "code",
   "execution_count": null,
   "metadata": {},
   "outputs": [],
   "source": [
    "result.to_csv(\"result.csv\")"
   ]
  },
  {
   "cell_type": "code",
   "execution_count": null,
   "metadata": {},
   "outputs": [],
   "source": [
    "# data_list = []\n",
    "# count = 1\n",
    "# for d in data[\"response\"][\"venues\"]:\n",
    "# #     store_name = d['name']\n",
    "# #     store_address = d['location'][\"address\"]\n",
    "# #     store_city = d['location'][\"city\"]\n",
    "# #     store_country = d['location'][\"country\"]\n",
    "# #     store_lat = d['location'][\"lat\"]\n",
    "# #     store_lng = d['location'][\"lng\"]\n",
    "#     store_postal = d['location'][\"postalCode\"]\n",
    "# #     store_state = d['location'][\"state\"]\n",
    "    \n",
    "#     data_list.append({ \"Name\" : d['name'],\n",
    "#     \"Address\": d[0][\"location\"][\"address\"],\n",
    "#     \"city\": d['location'][\"city\"],\n",
    "#     \"country\": d['location'][\"country\"],\n",
    "#     \"lat\": d['location'][\"lat\"],\n",
    "#     \"lng\": d['location'][\"lng\"],\n",
    "#     \"postal\": d['location'],\n",
    "#     \"state\": d['location'][\"state\"]})\n",
    "\n",
    "\n",
    "\n",
    "\n",
    "\n",
    "\n",
    "    \n",
    "    \n",
    "#     print(\"Processing Record #\" + str(count), \"|name:\", d['name'])\n",
    "#     count += 1\n",
    "# #     if response[\"cod\"] != \"404\":\n",
    "# #         city_lat = response[\"coord\"][\"lat\"]\n",
    "# #         city_lng = response[\"coord\"][\"lon\"]\n",
    "# #         city_temp = response[\"main\"][\"temp\"]\n",
    "# #         city_max_temp = response[\"main\"][\"temp_max\"]\n",
    "# #         city_min_temp = response[\"main\"][\"temp_min\"]\n",
    "# #         city_pressure = response[\"main\"][\"pressure\"]\n",
    "# #         city_humidity = response[\"main\"][\"humidity\"]\n",
    "# #         city_clouds = response[\"clouds\"][\"all\"]\n",
    "# #         city_wind = response[\"wind\"][\"speed\"]\n",
    "# #         city_country = response[\"sys\"][\"country\"]\n",
    "# #         city_weather_description = response[\"weather\"][0][\"description\"]\n",
    "# #         city_date = response[\"dt\"]\n",
    "        \n",
    "# #         print(\"Processing Record #\" + count, \"|city name:\", city)\n",
    "# #         count += 1\n",
    "\n",
    "        \n",
    "\n",
    "\n",
    "\n",
    "# #         # Append the City information into city_data list\n",
    "# #         city_data.append({\n",
    "# #             \"City\": city, \n",
    "# #             \"Lat\": city_lat, \n",
    "# #             \"Lng\": city_lng,\n",
    "# #             \"Temp\": city_temp,\n",
    "# #             \"Max Temp\": city_max_temp,\n",
    "# #             \"Min Temp\": city_min_temp,\n",
    "# #             \"Pressure\": city_pressure,\n",
    "# #             \"Humidity\": city_humidity,\n",
    "# #             \"Cloudiness\": city_clouds,\n",
    "# #             \"Wind Speed\": city_wind,\n",
    "# #             \"Country\": city_country,\n",
    "# #             \"Description\": city_weather_description,\n",
    "# #             \"Date\": city_date})"
   ]
  },
  {
   "cell_type": "code",
   "execution_count": null,
   "metadata": {},
   "outputs": [],
   "source": []
  },
  {
   "cell_type": "code",
   "execution_count": null,
   "metadata": {},
   "outputs": [],
   "source": [
    "data1"
   ]
  },
  {
   "cell_type": "code",
   "execution_count": null,
   "metadata": {},
   "outputs": [],
   "source": [
    "OF2My86ogxjHHFxFscHwYQ\n",
    "\n",
    "Yctnaw1C_GhYKgIsgTd4GT2fVSLHAMOyJxnhRru7wmPzZLAarj9E3ML6PxN6Do0Tei3Giw2dlyDuAt8ETJP9ECqVSg8pEC32C4wjgSi9HxmcqTI9dTTKKrDldPdJX3Yx"
   ]
  },
  {
   "cell_type": "code",
   "execution_count": null,
   "metadata": {},
   "outputs": [],
   "source": [
    "\n"
   ]
  },
  {
   "cell_type": "code",
   "execution_count": null,
   "metadata": {},
   "outputs": [],
   "source": [
    "data1"
   ]
  },
  {
   "cell_type": "code",
   "execution_count": null,
   "metadata": {},
   "outputs": [],
   "source": [
    "data_list5 = []\n",
    "count = 1\n",
    "for d in data1[\"businesses\"]:\n",
    "    try:\n",
    "        data_list5.append({ \"Name\" : d['name'],\n",
    "        \"reviews\": d['review_count'],\n",
    "        \"categories\":d[\"categories\"][0][\"title\"],\n",
    "        \"rating\":d[\"rating\"],\n",
    "        \"Address\": d[\"location\"][\"address1\"],\n",
    "        \"city\": d['location'][\"city\"],\n",
    "        \"country\": d['location'][\"country\"],\n",
    "        \"lat\": d[\"coordinates\"][\"latitude\"],\n",
    "        \"lng\": d[\"coordinates\"][\"longitude\"],\n",
    "        \"price\":d[\"price\"],\n",
    "        \"postal\": d['location']['zip_code'],\n",
    "        \"state\": d['location'][\"state\"]})\n",
    "    except:\n",
    "        pass\n",
    "   "
   ]
  },
  {
   "cell_type": "code",
   "execution_count": null,
   "metadata": {},
   "outputs": [],
   "source": [
    "pd.DataFrame(data_list5)"
   ]
  },
  {
   "cell_type": "code",
   "execution_count": null,
   "metadata": {},
   "outputs": [],
   "source": [
    "data1[\"businesses\"][1][\"id\"]"
   ]
  },
  {
   "cell_type": "code",
   "execution_count": null,
   "metadata": {},
   "outputs": [],
   "source": [
    "data_list = []\n",
    "count = 1\n",
    "for d in data1[\"response\"][\"venues\"]:\n",
    "#     store_name = d['name']\n",
    "#     store_address = d['location'][\"address\"]\n",
    "#     store_city = d['location'][\"city\"]\n",
    "#     store_country = d['location'][\"country\"]\n",
    "#     store_lat = d['location'][\"lat\"]\n",
    "#     store_lng = d['location'][\"lng\"]\n",
    "#     store_postal = d['location'][\"postalCode\"]\n",
    "#     store_state = d['location'][\"state\"]\n",
    "    \n",
    "    data_list.append({ \"Name\" : d['name'],\n",
    "    \"Address\": d[0][\"location\"][\"address\"],\n",
    "    \"city\": d['location'][\"city\"],\n",
    "    \"country\": d['location'][\"country\"],\n",
    "    \"lat\": d['location'][\"lat\"],\n",
    "    \"lng\": d['location'][\"lng\"],\n",
    "    \"postal\": d['location'],\n",
    "    \"state\": d['location'][\"state\"]})\n",
    "\n",
    "\n",
    "\n",
    "\n",
    "\n",
    "\n",
    "    \n",
    "    \n",
    "    print(\"Processing Record #\" + str(count), \"|name:\", d['name'])\n",
    "    count += 1"
   ]
  },
  {
   "cell_type": "code",
   "execution_count": null,
   "metadata": {},
   "outputs": [],
   "source": []
  },
  {
   "cell_type": "code",
   "execution_count": null,
   "metadata": {},
   "outputs": [],
   "source": []
  },
  {
   "cell_type": "code",
   "execution_count": null,
   "metadata": {},
   "outputs": [],
   "source": []
  },
  {
   "cell_type": "code",
   "execution_count": null,
   "metadata": {},
   "outputs": [],
   "source": [
    "for d in data:\n",
    "    print(d[])"
   ]
  },
  {
   "cell_type": "code",
   "execution_count": null,
   "metadata": {},
   "outputs": [],
   "source": [
    "location = \"Chicago, IL\"\n",
    "\n",
    "geolocator = Nominatim(user_agent=\"my_application\")\n",
    "location = geolocator.geocode(location)\n",
    "lat = location.latitude\n",
    "long = location.longitude\n",
    "print('The geograpical coordinates of Chicago are {}, {}.'.format(lat, long))"
   ]
  },
  {
   "cell_type": "code",
   "execution_count": null,
   "metadata": {},
   "outputs": [],
   "source": [
    "chi_lat_long = \"{},{}\".format(lat,long)\n",
    "chi_lat_long"
   ]
  },
  {
   "cell_type": "code",
   "execution_count": null,
   "metadata": {},
   "outputs": [],
   "source": [
    "url = 'https://api.foursquare.com/v2/venues/explore'\n",
    "\n",
    "params = dict(\n",
    "client_id='DABIBENCV5KY4JBIHU03AARZTXHPYMWNSZKUGHJ3BE1MGQG2',\n",
    "client_secret='OGGTMGV4H02BSU02H31KAOXTUDKQGHFZGHJBHNRUZWCMZ4CE',\n",
    "v='20180323',\n",
    "ll=chi_lat_long,\n",
    "query='restaurant',\n",
    "limit=10\n",
    ")\n",
    "resp = requests.get(url=url, params=params)\n",
    "data = json.loads(resp.text)"
   ]
  },
  {
   "cell_type": "code",
   "execution_count": null,
   "metadata": {},
   "outputs": [],
   "source": [
    "pprint(data)"
   ]
  },
  {
   "cell_type": "code",
   "execution_count": null,
   "metadata": {},
   "outputs": [],
   "source": [
    "for d in data:\n",
    "    print(data[\"groups\"])"
   ]
  },
  {
   "cell_type": "code",
   "execution_count": null,
   "metadata": {},
   "outputs": [],
   "source": [
    "url = 'https://api.foursquare.com/v2/venues/trending'\n",
    "\n",
    "params = dict(\n",
    "client_id='DABIBENCV5KY4JBIHU03AARZTXHPYMWNSZKUGHJ3BE1MGQG2',\n",
    "client_secret='OGGTMGV4H02BSU02H31KAOXTUDKQGHFZGHJBHNRUZWCMZ4CE',\n",
    "v='20200403',\n",
    "near=\"chicago\",\n",
    "limit=10,\n",
    "radius =100\n",
    ")\n",
    "resp = requests.get(url=url, params=params)\n",
    "data = json.loads(resp.text)"
   ]
  },
  {
   "cell_type": "code",
   "execution_count": null,
   "metadata": {},
   "outputs": [],
   "source": [
    "data"
   ]
  },
  {
   "cell_type": "code",
   "execution_count": null,
   "metadata": {},
   "outputs": [],
   "source": []
  }
 ],
 "metadata": {
  "kernelspec": {
   "display_name": "Python 3",
   "language": "python",
   "name": "python3"
  },
  "language_info": {
   "codemirror_mode": {
    "name": "ipython",
    "version": 3
   },
   "file_extension": ".py",
   "mimetype": "text/x-python",
   "name": "python",
   "nbconvert_exporter": "python",
   "pygments_lexer": "ipython3",
   "version": "3.7.6"
  }
 },
 "nbformat": 4,
 "nbformat_minor": 2
}
